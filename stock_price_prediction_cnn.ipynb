{
  "cells": [
    {
      "cell_type": "markdown",
      "metadata": {
        "id": "title"
      },
      "source": [
        "# Stock Price Prediction using CNN-based Sliding Window Model\n",
        "\n",
        "This notebook implements stock price prediction methodology from Selvin et al. (2017) using a CNN-based sliding window approach for NSE-listed companies (Infosys, TCS, Cipla).\n",
        "\n",
        "## Implementation Overview:\n",
        "- **Training Data**: Infosys (INFY.NS) from July 1, 2014 to October 14, 2014\n",
        "- **Testing Data**: Infosys, TCS, Cipla from October 16, 2014 to November 28, 2014\n",
        "- **Features**: Closing stock prices with MinMax scaling\n",
        "- **Model**: CNN with sliding windows (100min window, 90min overlap, predict 10 steps)\n",
        "- **Evaluation**: RMSE and MAE metrics with visualizations"
      ]
    },
    {
      "cell_type": "markdown",
      "metadata": {
        "id": "installation"
      },
      "source": [
        "## 1. Installation and Setup\n",
        "\n",
        "Install required packages for Google Colab environment."
      ]
    },
    {
      "cell_type": "code",
      "execution_count": null,
      "metadata": {
        "id": "install_packages"
      },
      "outputs": [],
      "source": [
        "# Install required packages\n",
        "!pip install yfinance pandas numpy matplotlib seaborn scikit-learn tensorflow plotly\n",
        "\n",
        "# Import necessary libraries\n",
        "import yfinance as yf\n",
        "import pandas as pd\n",
        "import numpy as np\n",
        "import matplotlib.pyplot as plt\n",
        "import seaborn as sns\n",
        "import plotly.graph_objects as go\n",
        "import plotly.express as px\n",
        "from datetime import datetime, timedelta\n",
        "import warnings\n",
        "warnings.filterwarnings('ignore')\n",
        "\n",
        "from sklearn.preprocessing import MinMaxScaler\n",
        "from sklearn.metrics import mean_squared_error, mean_absolute_error\n",
        "\n",
        "import tensorflow as tf\n",
        "from tensorflow.keras.models import Sequential\n",
        "from tensorflow.keras.layers import Conv1D, MaxPooling1D, Flatten, Dense, Dropout\n",
        "from tensorflow.keras.callbacks import EarlyStopping\n",
        "from tensorflow.keras.optimizers import Adam\n",
        "\n",
        "print('\u2705 All packages imported successfully!')\n",
        "print(f'TensorFlow version: {tf.__version__}')\n",
        "print(f'GPU Available: {len(tf.config.experimental.list_physical_devices(\"GPU\")) > 0}')"
      ]
    }
  ],
  "metadata": {
    "colab": {
      "provenance": []
    },
    "kernelspec": {
      "display_name": "Python 3",
      "language": "python",
      "name": "python3"
    },
    "language_info": {
      "codemirror_mode": {
        "name": "ipython",
        "version": 3
      },
      "file_extension": ".py",
      "mimetype": "text/x-python",
      "name": "python",
      "nbconvert_exporter": "python",
      "pygments_lexer": "ipython3",
      "version": "3.8.0"
    }
  },
  "nbformat": 4,
  "nbformat_minor": 0
}